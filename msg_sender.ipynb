{
 "cells": [
  {
   "cell_type": "code",
   "execution_count": 7,
   "metadata": {},
   "outputs": [],
   "source": [
    "from selenium import webdriver\n",
    "from selenium.webdriver.common.by import By\n",
    "from selenium.webdriver.common.keys import Keys\n",
    "from selenium.webdriver.support.ui import WebDriverWait\n",
    "from selenium.webdriver.support import expected_conditions as EC\n",
    "import time\n",
    "import pandas as pd\n",
    "import random\n",
    "import logging\n",
    "import schedule"
   ]
  },
  {
   "cell_type": "code",
   "execution_count": 3,
   "metadata": {},
   "outputs": [
    {
     "data": {
      "text/plain": [
       "''"
      ]
     },
     "execution_count": 3,
     "metadata": {},
     "output_type": "execute_result"
    }
   ],
   "source": [
    "\n",
    "# Configure logging to store failed messages in a file\n",
    "logging.basicConfig(filename=\"failed_messages.log\", level=logging.ERROR, \n",
    "                    format=\"%(asctime)s - Failed to send message to %(message)s\", datefmt=\"%Y-%m-%d %H:%M:%S\")\n",
    "\n",
    "# Loading contacts from excel file (assuming 'Name' and 'Phone' columns)\n",
    "contacts = pd.read_excel(\"/Users/mac/Desktop/bulk_msg.xlsx\")\n",
    "\n",
    "# Opening WhatsApp Web\n",
    "driver = webdriver.Chrome()\n",
    "driver.get(\"https://web.whatsapp.com/\")\n",
    "input(\"Scan the QR code and press Enter...\")  # Wait for manual login"
   ]
  },
  {
   "cell_type": "code",
   "execution_count": null,
   "metadata": {},
   "outputs": [],
   "source": [
    "def send_message(phone, message):\n",
    "    try:\n",
    "        url = f\"https://web.whatsapp.com/send?phone={phone}&text={message}\"\n",
    "        driver.get(url)\n",
    "        time.sleep(random.randint(8,12))  # Randomized delay to mimic human behavior\n",
    "\n",
    "        send_button = WebDriverWait(driver, 10).until(EC.element_to_be_clickable((By.XPATH, \"//button[contains(@aria-label, 'Send')]\")))\n",
    "\n",
    "        send_button.click()\n",
    "\n",
    "        print(f\"✅ Message sent to {phone}\")\n",
    "        time.sleep(random.randint(12, 16))  # Delay between messages\n",
    "    except Exception as e:\n",
    "        print(f\"❌ Failed to send message to {phone}: {e}\")\n",
    "        logging.error(f\"{phone} - {e}\")  # Log failed message details"
   ]
  },
  {
   "cell_type": "code",
   "execution_count": null,
   "metadata": {},
   "outputs": [
    {
     "name": "stdout",
     "output_type": "stream",
     "text": [
      "✅ Message sent to 919417462900\n",
      "✅ Message sent to 919464536472\n"
     ]
    }
   ],
   "source": [
    "# Sending messages to all contacts\n",
    "for index, row in contacts.iterrows():\n",
    "    send_message(row[\"Phone\"], row[\"Message\"])  # Taking message from Excel file\n",
    "\n",
    "driver.quit()"
   ]
  },
  {
   "cell_type": "code",
   "execution_count": null,
   "metadata": {},
   "outputs": [],
   "source": [
    "def schedule_messages():\n",
    "    \"\"\"Function to schedule messages at specific times.\"\"\"\n",
    "    for index, row in contacts.iterrows():\n",
    "        # Set your desired schedule here (24-hour format)\n",
    "        time_to_send = \"14:30\"  # Example: 2:30 PM\n",
    "\n",
    "        schedule.every().day.at(time_to_send).do(send_message, row[\"Phone\"], row[\"Message\"])\n",
    "        print(f\"⏳ Scheduled message for {row['Name']} at {time_to_send}\")\n",
    "\n",
    "# Schedule messages\n",
    "schedule_messages()\n",
    "\n",
    "print(\"📅 Scheduler is running. Waiting for the scheduled time...\")\n",
    "\n",
    "# Keep running the script to check the schedule\n",
    "while True:\n",
    "    schedule.run_pending()\n",
    "    time.sleep(30)  # Check every 30 seconds"
   ]
  }
 ],
 "metadata": {
  "kernelspec": {
   "display_name": ".msg_venv",
   "language": "python",
   "name": "python3"
  },
  "language_info": {
   "codemirror_mode": {
    "name": "ipython",
    "version": 3
   },
   "file_extension": ".py",
   "mimetype": "text/x-python",
   "name": "python",
   "nbconvert_exporter": "python",
   "pygments_lexer": "ipython3",
   "version": "3.11.0rc2"
  }
 },
 "nbformat": 4,
 "nbformat_minor": 2
}
